{
  "cells": [
    {
      "cell_type": "code",
      "execution_count": 1,
      "metadata": {
        "collapsed": false
      },
      "outputs": [],
      "source": [
        "# For tips on running notebooks in Google Colab, see\n",
        "# https://pytorch.org/tutorials/beginner/colab\n",
        "%matplotlib inline"
      ]
    },
    {
      "cell_type": "markdown",
      "metadata": {},
      "source": [
        "\n",
        "[Introduction](introyt1_tutorial.html) ||\n",
        "**Tensors** ||\n",
        "[Autograd](autogradyt_tutorial.html) ||\n",
        "[Building Models](modelsyt_tutorial.html) ||\n",
        "[TensorBoard Support](tensorboardyt_tutorial.html) ||\n",
        "[Training Models](trainingyt.html) ||\n",
        "[Model Understanding](captumyt.html)\n",
        "\n",
        "# Introduction to PyTorch Tensors\n",
        "\n",
        "Follow along with the video below or on [youtube](https://www.youtube.com/watch?v=r7QDUPb2dCM)_.\n",
        "\n",
        ".. raw:: html\n",
        "\n",
        "   <div style=\"margin-top:10px; margin-bottom:10px;\">\n",
        "     <iframe width=\"560\" height=\"315\" src=\"https://www.youtube.com/embed/r7QDUPb2dCM\" frameborder=\"0\" allow=\"accelerometer; encrypted-media; gyroscope; picture-in-picture\" allowfullscreen></iframe>\n",
        "   </div>\n",
        "\n",
        "Tensors are the central data abstraction in PyTorch. This interactive\n",
        "notebook provides an in-depth introduction to the ``torch.Tensor``\n",
        "class.\n",
        "\n",
        "First things first, let’s import the PyTorch module. We’ll also add\n",
        "Python’s math module to facilitate some of the examples.\n"
      ]
    },
    {
      "cell_type": "code",
      "execution_count": 2,
      "metadata": {
        "collapsed": false
      },
      "outputs": [],
      "source": [
        "import torch\n",
        "import math"
      ]
    },
    {
      "cell_type": "markdown",
      "metadata": {},
      "source": [
        "## Creating Tensors\n",
        "\n",
        "The simplest way to create a tensor is with the ``torch.empty()`` call:\n",
        "\n",
        "\n"
      ]
    },
    {
      "cell_type": "code",
      "execution_count": 3,
      "metadata": {
        "collapsed": false
      },
      "outputs": [
        {
          "name": "stdout",
          "output_type": "stream",
          "text": [
            "<class 'torch.Tensor'>\n",
            "tensor([[2.3613e-06, 3.0799e-41, 0.0000e+00, 0.0000e+00],\n",
            "        [       nan, 4.5827e-41, 3.0601e+32, 1.8179e+31],\n",
            "        [2.7947e+20, 2.2855e+20, 9.3168e-39, 4.5825e-41]])\n"
          ]
        }
      ],
      "source": [
        "x = torch.empty(3, 4)\n",
        "print(type(x))\n",
        "print(x)"
      ]
    },
    {
      "cell_type": "markdown",
      "metadata": {},
      "source": [
        "Let’s unpack what we just did:\n",
        "\n",
        "-  We created a tensor using one of the numerous factory methods\n",
        "   attached to the ``torch`` module.\n",
        "-  The tensor itself is 2-dimensional, having 3 rows and 4 columns.\n",
        "-  The type of the object returned is ``torch.Tensor``, which is an\n",
        "   alias for ``torch.FloatTensor``; by default, PyTorch tensors are\n",
        "   populated with 32-bit floating point numbers. (More on data types\n",
        "   below.)\n",
        "-  You will probably see some random-looking values when printing your\n",
        "   tensor. The ``torch.empty()`` call allocates memory for the tensor,\n",
        "   but does not initialize it with any values - so what you’re seeing is\n",
        "   whatever was in memory at the time of allocation.\n",
        "\n",
        "A brief note about tensors and their number of dimensions, and\n",
        "terminology:\n",
        "\n",
        "-  You will sometimes see a 1-dimensional tensor called a\n",
        "   *vector.* \n",
        "-  Likewise, a 2-dimensional tensor is often referred to as a\n",
        "   *matrix.* \n",
        "-  Anything with more than two dimensions is generally just\n",
        "   called a tensor.\n",
        "\n",
        "More often than not, you’ll want to initialize your tensor with some\n",
        "value. Common cases are all zeros, all ones, or random values, and the\n",
        "``torch`` module provides factory methods for all of these:\n",
        "\n",
        "\n"
      ]
    },
    {
      "cell_type": "code",
      "execution_count": 4,
      "metadata": {
        "collapsed": false
      },
      "outputs": [
        {
          "name": "stdout",
          "output_type": "stream",
          "text": [
            "tensor([[0., 0., 0.],\n",
            "        [0., 0., 0.]])\n",
            "tensor([[1., 1., 1.],\n",
            "        [1., 1., 1.]])\n",
            "tensor([[0.3126, 0.3791, 0.3087],\n",
            "        [0.0736, 0.4216, 0.0691]])\n",
            "tensor(1.0352)\n"
          ]
        },
        {
          "data": {
            "text/plain": [
              "array([ 6.9940907e-01, -1.0182011e+00,  6.9800264e-01, -2.3966072e+00,\n",
              "       -3.6234194e-01,  6.4414233e-01,  8.8839889e-01, -5.6755334e-01,\n",
              "        2.0478256e-01, -2.2337414e-02, -9.5411465e-03,  2.0234985e+00,\n",
              "       -9.6608770e-01,  1.1777142e+00,  1.0527152e+00,  8.6571634e-02,\n",
              "        1.5013226e+00, -2.7066138e-01,  1.1178957e+00,  1.7193881e-01,\n",
              "        2.4872255e-01, -3.9468780e-01, -7.7430421e-01, -1.2283365e+00,\n",
              "        7.0939791e-01, -1.7905146e-02, -4.0205660e-01,  1.9298607e+00,\n",
              "        7.3295325e-01,  6.8951732e-01, -6.7877364e-01, -8.9125401e-01,\n",
              "       -1.1665115e+00,  2.2306867e+00,  5.8984190e-01, -1.0871859e+00,\n",
              "       -2.9396561e-01, -7.8893471e-01, -1.8043405e-01, -5.4380763e-01,\n",
              "        1.7563395e-01,  7.9959178e-01,  1.9146974e+00, -5.3731149e-01,\n",
              "       -1.4944490e+00,  5.2396780e-01, -1.4364172e+00, -5.6165737e-01,\n",
              "       -1.1479061e-01, -2.1859728e-02,  3.4494767e-01,  6.9624162e-01,\n",
              "       -2.6220185e-01, -7.3243147e-01, -1.5411626e+00,  1.7046231e+00,\n",
              "        1.6273967e+00, -2.7786931e-01, -6.0176069e-01, -1.0326402e+00,\n",
              "        9.2236155e-01,  6.9825304e-01,  4.2984238e-01,  7.3665220e-01,\n",
              "       -2.3950605e-01,  1.5432403e+00, -4.3328702e-01,  6.7180827e-02,\n",
              "        1.1396110e+00,  8.3193195e-01, -2.8290164e+00,  7.9902077e-01,\n",
              "       -1.4650185e+00,  8.1886768e-01,  3.1315252e-01, -5.1813005e-03,\n",
              "        2.5642830e-01,  5.3159451e-01,  9.4798511e-01, -8.0928463e-01,\n",
              "       -5.1394552e-01,  1.4490703e+00,  1.6718485e+00, -1.7147379e+00,\n",
              "        7.2302955e-01, -1.0887208e+00, -1.8443371e+00,  9.1483498e-01,\n",
              "       -5.6398994e-01, -5.0731993e-01,  1.1922233e-01, -1.9754739e-01,\n",
              "       -8.8109277e-02, -1.5910372e+00,  1.1005661e+00,  4.2782968e-01,\n",
              "        3.6355123e-01, -5.1727921e-01, -1.2862250e+00,  2.3782089e+00,\n",
              "        1.9311561e-01, -7.6037234e-01, -3.7286279e-01, -3.5062179e-01,\n",
              "        1.0573630e+00,  9.6168423e-01, -5.6164104e-01,  9.7809039e-02,\n",
              "       -1.1480465e+00,  1.0007309e+00, -1.1884053e+00, -7.7827865e-01,\n",
              "       -2.0315669e+00, -1.0010430e+00, -1.5320663e+00, -6.0581863e-01,\n",
              "       -1.2781746e+00,  4.7281447e-01, -4.5406467e-01,  4.0056625e-01,\n",
              "       -1.2426865e+00,  4.2319703e-01, -1.7144041e+00,  1.2718149e+00,\n",
              "        5.7905406e-01,  1.0235207e+00, -1.2903956e+00, -1.0635091e+00,\n",
              "       -6.4393228e-01, -7.6653588e-01, -6.7570031e-01,  1.3757451e-01,\n",
              "       -4.4246915e-01, -4.8266619e-02, -1.5344288e+00,  4.0591875e-01,\n",
              "        2.5144553e-01,  6.5292650e-01, -5.4313588e-01,  1.4093916e+00,\n",
              "       -1.8050692e+00, -7.8361940e-01,  5.3415465e-01, -5.5976802e-01,\n",
              "       -5.4907314e-02, -2.2653639e+00,  3.4539866e-01, -4.2852744e-02,\n",
              "        1.2695948e+00, -2.0967595e-02,  2.0488734e+00, -9.2719821e-03,\n",
              "        5.4634893e-01, -3.6087966e-01,  5.6881195e-01, -6.2450379e-01,\n",
              "       -6.4248335e-01,  7.2291976e-01, -8.5751522e-01, -1.1869363e+00,\n",
              "        4.4706917e-01,  6.0619658e-01, -4.2527637e-01, -3.7499700e-02,\n",
              "       -4.5767343e-01, -7.3420721e-01, -2.7676420e+00, -1.7156494e+00,\n",
              "        2.1514931e+00,  2.0306630e+00,  1.7408166e+00,  3.3551681e-01,\n",
              "        1.2305138e+00, -2.0842912e+00, -7.2188985e-01, -2.9736029e-02,\n",
              "       -1.9694801e-01,  2.9464418e-01,  1.4899313e-01, -9.6118230e-01,\n",
              "        3.4315500e-01,  9.8188812e-01,  1.4268187e+00, -1.7648476e+00,\n",
              "        2.0117810e-01, -5.5566216e-01, -5.3142613e-01, -1.4093258e+00,\n",
              "        5.5552232e-01,  2.6858112e-01,  2.8433746e-01, -8.2158446e-02,\n",
              "        6.9898361e-01, -2.8560369e-03,  4.7359222e-01, -4.7123525e-01,\n",
              "       -1.5578680e+00,  4.9623969e-01, -7.5548756e-01, -1.3687787e+00,\n",
              "        1.4366909e+00, -1.4759912e+00, -7.2018586e-02, -3.2933944e-01,\n",
              "        1.1433169e+00, -9.0347752e-02,  1.4168469e+00, -4.8845649e-01,\n",
              "       -9.1362119e-01, -2.7264479e-01, -5.0199610e-01,  9.2447788e-01,\n",
              "        5.7322252e-01, -2.2480665e-01,  4.2040971e-01,  8.1782323e-01,\n",
              "        1.1087384e+00, -1.4657589e+00,  6.5519089e-01, -1.4296833e-01,\n",
              "        7.4664837e-01,  8.8255686e-01,  4.6042687e-01,  1.1492709e-02,\n",
              "       -4.3576762e-02, -1.3043926e+00, -1.2512087e+00,  4.4448357e+00,\n",
              "       -3.8848692e-01,  4.9902567e-01,  1.0166473e+00,  1.4746914e+00,\n",
              "        2.1451390e+00,  6.6952938e-01, -9.4610798e-01, -4.7908965e-01,\n",
              "        1.0730815e+00, -6.8771183e-01,  6.7825228e-01,  2.2646648e-01,\n",
              "        1.5116680e+00,  4.8586059e-01,  7.0675004e-01,  2.1148403e+00,\n",
              "       -1.1348946e+00, -1.2006094e+00, -1.8804411e+00, -6.0984880e-01,\n",
              "        5.5123681e-01,  1.8955745e-01, -6.8037152e-02,  1.6767387e+00,\n",
              "       -1.0276902e+00, -1.3693357e+00, -3.0014455e-01, -1.6339625e+00,\n",
              "        1.6238233e-01,  9.4640511e-01, -4.2166415e-01,  2.0531799e-01,\n",
              "       -3.2484981e-01, -1.1405208e+00,  1.9121222e+00,  1.4001650e+00,\n",
              "       -2.4023189e-01, -1.7230077e+00, -7.0687830e-01, -1.8824067e+00,\n",
              "        1.7611378e-01,  1.0782449e+00, -1.0555551e+00, -5.5582392e-01,\n",
              "       -1.1045517e+00, -1.2512878e+00, -2.8895831e-01, -6.6171676e-01,\n",
              "       -5.4160327e-01,  1.0280522e+00,  4.6871012e-01, -2.0576420e-01,\n",
              "        1.1953341e+00,  9.5033491e-01, -1.8285069e+00,  2.2802661e-01,\n",
              "       -3.4440950e-01,  1.3270206e+00,  1.2389950e+00, -2.2407770e+00,\n",
              "       -1.2470515e+00, -5.2193898e-01, -1.3872837e+00, -1.1190881e+00,\n",
              "        1.4561997e-01,  2.1266308e+00, -5.1245064e-01, -2.2746782e+00,\n",
              "       -6.8933666e-01, -2.7520353e-01,  1.6881551e+00, -7.6953459e-01,\n",
              "        3.6000535e-01, -2.6263708e-01, -8.3214402e-01,  1.6281327e+00,\n",
              "        4.2731360e-01,  9.6762225e-02,  5.5897516e-01,  2.0322752e+00,\n",
              "       -9.8837990e-01, -4.1314825e-01,  1.5158734e-01,  2.4137367e-01,\n",
              "       -8.3917099e-01,  4.2029211e-01, -6.3107759e-01,  5.4531527e-01,\n",
              "       -2.5239715e-02,  5.2232027e-01,  1.3653544e+00,  1.3826439e-01,\n",
              "       -1.7016150e+00, -5.3354025e-01,  8.1716418e-01, -4.2767861e-01,\n",
              "        2.1778195e-01, -4.5725009e-01, -2.4521263e+00,  9.8450251e-02,\n",
              "        2.4622338e-01, -5.6873834e-01,  1.1884087e+00,  2.5567219e-01,\n",
              "       -7.5146772e-02,  8.8691777e-01,  2.0487487e-01, -2.4527380e-01,\n",
              "        3.1564817e-01,  7.3933256e-01, -1.3745801e-01,  6.2882698e-01,\n",
              "       -2.5165944e+00,  1.7099111e+00, -1.0721534e+00, -3.4136266e-01,\n",
              "        9.7992826e-01,  1.0061632e+00,  2.6382270e-01,  3.9043346e-01,\n",
              "        6.8960720e-01, -1.1160700e+00, -3.7604263e-01, -1.4252421e+00,\n",
              "        4.0521836e-01, -1.7010579e+00,  1.5141274e+00, -1.0713375e+00,\n",
              "       -6.9943976e-01,  1.4845474e+00,  3.3867294e-01, -5.2976850e-02,\n",
              "        4.4939868e-02,  1.3554912e+00,  5.7355732e-02,  6.7077768e-01,\n",
              "       -2.4659108e-01, -6.2198013e-01, -5.7518291e-01, -7.2295696e-01,\n",
              "        2.0792458e+00,  2.3154257e-02,  5.9026217e-01,  1.8106721e-01,\n",
              "       -5.1157528e-01, -4.8062500e-01,  7.7967715e-01,  5.1556274e-02,\n",
              "       -1.4435580e+00, -9.1944689e-01, -2.0968999e-01,  1.6876285e+00,\n",
              "       -8.5795599e-01, -3.6452923e-02, -7.9320264e-01, -2.8979003e-01,\n",
              "       -2.8380728e-01,  7.9944062e-01, -5.5163789e-01, -2.9694879e-01,\n",
              "       -6.8161905e-01,  2.1105042e-02,  6.8358678e-01, -2.0581670e-01,\n",
              "       -1.6858108e+00, -2.6661569e-01, -7.8133017e-01,  7.1560717e-01,\n",
              "       -1.4366001e+00, -7.9715848e-02, -7.1886522e-01,  1.1100130e+00,\n",
              "        1.3437239e+00, -1.2775934e+00,  1.0344697e+00,  3.9920494e-01,\n",
              "        8.7931210e-01, -2.9661793e-01,  2.3250864e+00, -1.6102581e+00,\n",
              "       -2.4533269e+00,  2.0659826e+00,  1.0109063e+00,  9.7453415e-01,\n",
              "        7.4889266e-01,  2.2522688e+00, -1.9763644e+00, -6.6321117e-01,\n",
              "        8.2392210e-01,  2.6916075e-01, -8.8311106e-01,  1.6232228e+00,\n",
              "       -5.3269893e-01,  9.8734224e-01, -5.0290447e-01,  1.9731865e+00,\n",
              "       -1.4509392e+00, -8.4227580e-01,  1.5655298e+00, -1.2883045e-01,\n",
              "       -1.3474864e-01, -6.2159016e-03,  1.9918293e-01, -1.0161036e+00,\n",
              "       -7.6442266e-01, -3.8112149e-01,  9.4738221e-01,  2.9581156e-01,\n",
              "       -2.6555818e-01, -2.4934382e+00, -4.9635193e-01,  2.3714442e+00,\n",
              "        1.1373999e+00,  2.9820663e-01, -1.8080529e+00, -9.6264100e-01,\n",
              "        1.8931098e+00, -2.0444472e-01,  1.5726846e-01,  1.2358892e+00,\n",
              "        1.2516224e+00, -1.4857450e+00,  2.3933609e+00, -3.4109840e-01,\n",
              "       -1.4382416e+00,  1.2330902e+00, -9.7630136e-02, -2.8417754e-01,\n",
              "        5.3656799e-01,  1.5924923e-01,  1.0374060e+00,  2.1710081e-01,\n",
              "       -4.6287847e-01, -2.4550964e-01, -7.5454801e-01, -1.2574388e+00,\n",
              "        3.0164891e-01,  3.0191633e-01, -2.3606846e+00,  4.5326185e-01,\n",
              "        1.1335185e+00,  1.3151398e-01,  1.0116893e+00,  5.1343155e-01,\n",
              "       -9.5455968e-01,  6.1230153e-02,  5.2539551e-01,  1.1567849e+00,\n",
              "        7.7020770e-01,  5.0063565e-02,  1.4679369e+00,  2.6711896e-01,\n",
              "       -6.7003585e-02, -1.0217228e+00,  1.8853441e-01,  6.0882026e-01,\n",
              "       -2.6475835e-01, -6.7771411e-01,  1.5736167e+00,  4.5240247e-01,\n",
              "        3.9263311e-01, -8.8943982e-01,  4.8540562e-01, -1.3093033e+00,\n",
              "       -1.0887607e+00,  2.7921441e+00,  9.8801798e-01, -5.3969258e-01,\n",
              "       -5.7832146e-01,  1.2112921e+00,  5.3468341e-01, -3.1235215e-01,\n",
              "       -5.1749108e-04, -3.5624337e-01, -6.3067609e-01, -1.0360463e+00,\n",
              "       -2.1250963e-01,  1.2614321e+00,  7.9389942e-01,  3.3186364e-01,\n",
              "        1.4482810e+00,  4.4602469e-01, -1.5044025e-01, -1.2368439e+00,\n",
              "       -1.3087540e+00, -1.8319950e+00,  9.8272496e-01,  4.0460205e-01,\n",
              "       -6.7378342e-01,  1.0127027e+00, -9.6466088e-01,  2.9709661e+00,\n",
              "        1.3068340e+00, -1.1264752e+00, -4.9289525e-01, -1.3502059e+00,\n",
              "        1.1818942e+00,  9.4652110e-01, -1.7548833e+00,  2.8263271e-01,\n",
              "        2.9388312e-01, -1.5932797e-01,  9.9993128e-01,  1.8383383e+00,\n",
              "        6.5901023e-01,  4.6944016e-01, -2.2177598e-01,  5.6424052e-01,\n",
              "       -1.1113023e+00,  2.6039302e-01,  1.6150852e-01, -3.6918956e-01,\n",
              "       -1.3639967e-01, -3.2673335e-01, -9.5607305e-01,  2.9816577e-01,\n",
              "        1.5266562e-01,  7.4505341e-01,  3.2339296e-01,  4.1772678e-01,\n",
              "        4.5541739e-01, -1.0907978e+00,  9.6326226e-01,  4.9396771e-01,\n",
              "        1.1159517e+00, -2.4269297e+00, -9.0190643e-01,  2.9982623e-01,\n",
              "       -1.2195710e+00, -7.3577815e-01, -3.2342080e-02,  2.5715113e-01,\n",
              "       -8.1070304e-01,  1.7685186e+00,  9.7081535e-02,  1.6706130e-02,\n",
              "       -1.7686634e-01, -3.9943483e-01, -4.5532909e-01, -1.2892702e+00,\n",
              "        2.3782606e+00, -1.1324277e+00, -2.1180151e+00,  6.0887788e-03,\n",
              "        3.3050016e-01, -1.0627799e+00, -1.5698979e+00,  4.1407019e-02,\n",
              "        5.6246728e-01,  7.2060692e-01, -2.1295264e+00,  1.1272904e+00,\n",
              "       -2.2230649e+00, -5.6646150e-01, -2.3485963e-01, -1.3779039e+00,\n",
              "       -2.8793931e-01, -3.4129990e-03,  3.2539582e-01,  1.6766038e+00,\n",
              "       -8.5637087e-01,  1.1946514e+00,  1.2558788e+00,  6.7716181e-01,\n",
              "       -1.5341167e-01,  8.0931675e-01,  1.2399572e+00, -6.2063611e-01,\n",
              "       -7.6093572e-01, -2.2355843e-01, -1.9728439e+00,  5.1319647e-01,\n",
              "        6.6818222e-02, -1.0859926e+00, -3.2843512e-01, -1.3224778e-01,\n",
              "       -1.8553636e+00,  1.0911208e+00, -2.3818909e-01,  1.3468305e+00,\n",
              "        1.0564934e+00,  3.3615690e-02,  1.1130668e+00, -7.0590019e-01,\n",
              "       -9.3540221e-02, -4.6404371e-01,  7.1330033e-02,  1.3387743e+00,\n",
              "        1.4879339e+00, -4.7812137e-01,  1.1544341e+00, -2.3979027e-02,\n",
              "        8.8167590e-01,  1.6131443e-01,  9.0572405e-01,  3.7428886e-01,\n",
              "        5.5862379e-01, -1.6117122e+00,  1.9562858e-01, -6.4726359e-01,\n",
              "       -4.5916861e-01,  1.6654561e+00, -2.6292617e-02,  1.3714782e+00,\n",
              "        1.9337187e+00, -8.7057626e-01, -1.5379478e+00,  7.0291519e-01,\n",
              "        1.6252253e+00, -1.2997374e-01,  1.0931168e+00, -4.2271787e-01,\n",
              "        2.0499554e+00, -4.7512773e-01,  1.9306822e-01, -2.0040587e-01,\n",
              "       -2.5083954e+00, -8.4632015e-01,  2.2199908e-01,  2.1643998e-01,\n",
              "        6.0252106e-01,  1.0982127e+00, -1.4700059e+00,  3.3906379e-01,\n",
              "       -2.7559632e-01,  3.0205562e+00,  5.9612489e-01, -1.0502647e+00,\n",
              "        5.5541438e-01,  7.7360463e-01,  1.4419150e-02, -1.2584544e+00,\n",
              "        5.9320956e-01, -9.0419197e-01,  4.6241183e-02,  8.1266278e-01,\n",
              "       -1.3141808e-01, -1.3397075e+00, -5.6261200e-01,  3.0428562e-02,\n",
              "       -9.7244062e-02,  1.8337178e-01, -1.9708301e+00, -1.2862366e-01,\n",
              "       -1.6780695e+00,  4.1889720e-02, -1.4793663e-01, -9.6700720e-02,\n",
              "       -8.5547608e-01,  6.2078381e-01,  2.1969464e-01, -2.9322368e-01,\n",
              "        1.3245031e+00,  1.1786169e+00, -4.1502422e-01,  2.4120471e+00,\n",
              "        1.4543147e+00, -8.4386122e-01,  7.2329319e-01,  1.2961672e-01,\n",
              "        4.6050325e-01, -2.3358940e-01, -1.5342774e+00,  2.9800501e-01,\n",
              "        4.5765102e-01,  1.2505534e+00,  5.3980684e-01, -8.9232254e-01,\n",
              "        5.6796616e-01,  3.5401177e-01,  9.8309463e-01,  2.3500235e+00,\n",
              "        9.1939414e-01, -3.4949679e-02, -1.9252533e+00, -1.6785003e-01,\n",
              "       -7.6610893e-01, -2.2880362e-01, -1.4344445e+00,  3.5186589e-01,\n",
              "        2.3092797e+00, -1.1096988e+00, -4.7492141e-01,  4.7098246e-01,\n",
              "       -6.4699399e-01,  9.0700597e-01,  2.6259881e-01, -6.1181772e-01,\n",
              "        1.4262117e-01, -1.6297585e+00,  1.3224199e-01, -2.7052775e-01,\n",
              "       -8.4623210e-02,  2.8128797e-01,  1.2280420e+00, -8.2020715e-02,\n",
              "        2.2700673e-01,  2.2789201e-01, -1.0125202e+00, -1.0395333e+00,\n",
              "       -9.6837026e-01,  4.0073473e-02, -3.8514029e-02, -2.5414972e-02,\n",
              "        7.3750937e-01,  4.5817664e-01, -3.4131497e-01,  1.2742782e+00,\n",
              "        7.8493148e-01,  7.1149689e-01, -4.9439919e-01, -2.4413686e+00,\n",
              "        5.7530254e-01, -1.1307993e+00, -2.1249433e+00,  1.5185050e+00,\n",
              "       -2.2019696e-01,  1.9594593e+00, -9.1368645e-01, -9.8050363e-02,\n",
              "        6.4237624e-02, -4.1050413e-01,  4.5918387e-01, -1.7088306e-01,\n",
              "       -6.0441577e-01, -7.7998877e-01, -2.1183543e+00,  1.9203082e+00,\n",
              "        4.2322248e-01,  7.8942931e-01, -1.6005671e+00, -1.4749254e-01,\n",
              "        1.9185093e-01,  1.1183078e+00,  7.2288162e-01, -2.8805164e-01,\n",
              "        8.9306138e-02, -7.3654957e-02, -1.7985429e-01,  4.4029376e-01,\n",
              "       -4.7034749e-01,  6.2807423e-01, -1.1766807e+00,  4.3033913e-01,\n",
              "        4.3749231e-01, -6.3544536e-01,  9.9037117e-01, -2.0154992e-01,\n",
              "       -2.6828870e-02, -8.8996506e-01,  1.5629966e+00, -1.6049030e+00,\n",
              "       -1.8881660e+00,  2.2015557e-01,  5.5184519e-01,  7.8819340e-01,\n",
              "       -6.9181114e-02, -3.3347267e-01, -6.0275215e-01,  7.6774073e-01,\n",
              "        1.6289032e+00, -1.6410166e-01,  1.2846241e+00,  3.4328291e-01,\n",
              "       -8.6370416e-02,  2.0529431e-01, -1.6374339e+00, -1.2860253e+00,\n",
              "        1.4892745e+00,  7.4890703e-02,  1.9280455e-01,  4.3290663e-01,\n",
              "       -1.7072170e+00, -9.4402379e-01,  7.9300888e-03,  1.0452813e+00,\n",
              "       -1.9954822e+00, -6.8290651e-01, -3.5884082e-01,  6.4060211e-01,\n",
              "       -7.4087942e-01, -1.8026382e-01, -7.9497248e-01,  6.2457740e-01,\n",
              "       -2.0369411e+00,  3.6182630e-01, -1.4550099e-01, -5.9097874e-01,\n",
              "        5.5404603e-01,  8.9955246e-01,  2.5580621e+00,  9.0305710e-01,\n",
              "       -3.4527475e-01,  1.0915470e+00,  6.4998895e-01, -8.3299452e-01,\n",
              "       -3.9720652e-01, -9.5215166e-01,  8.1677151e-01, -1.2952166e+00,\n",
              "       -1.5574781e+00, -2.7022225e-01, -1.2568169e+00, -3.6622474e-01,\n",
              "        2.2333294e-01,  5.3820002e-01,  4.0307733e-01, -2.8427392e-01,\n",
              "        4.2716673e-01,  8.6267662e-01,  7.3558950e-01, -1.7907146e-01,\n",
              "       -1.3516076e+00, -3.1025557e-02,  7.5802314e-01, -8.7833226e-01,\n",
              "       -1.1055318e+00,  1.3062888e+00,  2.4744502e-01, -3.3786795e-01,\n",
              "       -3.9869541e-01, -8.3375454e-01, -4.6164310e-01, -3.9952016e-01,\n",
              "        7.9780984e-01, -1.3678414e-01, -1.8891537e+00, -4.3920746e-01,\n",
              "       -1.4305402e+00,  1.0412960e+00, -1.4198647e+00,  8.2102436e-01,\n",
              "        1.1333533e-01,  1.1821252e+00,  1.4175383e-02, -3.8571745e-02,\n",
              "       -1.6853526e+00,  1.6115482e+00, -1.0762386e-01,  4.1551334e-01,\n",
              "       -1.8205421e+00,  1.3059580e+00, -8.9688963e-01, -1.0237348e+00,\n",
              "       -3.5152674e-01, -1.1822890e+00,  4.5940107e-01,  5.2524585e-01,\n",
              "        7.9095739e-01,  4.0119413e-01,  1.5686537e+00,  1.1981916e+00,\n",
              "       -1.2446533e+00, -1.1572300e+00, -1.1704048e+00, -2.5253341e-01,\n",
              "        1.2042049e+00,  2.0173540e+00, -7.0580930e-01,  3.3475837e-01,\n",
              "       -7.2918795e-02, -1.2947688e+00,  3.8621578e-01, -1.5325036e+00,\n",
              "        1.3674006e+00,  2.7260306e-01,  7.6695400e-01,  2.5441122e-01,\n",
              "        2.7994277e+00,  3.3985305e-01,  1.6699284e+00, -2.0013119e-01,\n",
              "        2.1900411e+00, -8.0866911e-02, -4.6918467e-01, -1.4573314e+00,\n",
              "        3.5509300e-01, -8.6406034e-01,  1.1262849e-01, -1.0280449e+00,\n",
              "       -2.8634716e-02, -8.2925314e-01, -1.4365879e+00,  7.5729150e-01,\n",
              "       -8.2582635e-01,  3.9718173e-02,  3.0097467e-01, -1.6627587e+00,\n",
              "       -7.1451855e-01, -8.7042141e-01,  7.7021444e-01,  1.0499855e+00,\n",
              "       -1.6639278e+00,  1.4612925e+00,  1.6335454e+00, -7.9591453e-01,\n",
              "        1.1823441e+00,  6.8766236e-01,  5.1403619e-02,  4.2049229e-01,\n",
              "        2.4257754e-01,  3.9131960e-01,  2.3242193e-01,  7.0207882e-01,\n",
              "        1.9075705e+00,  4.7878299e-02, -8.3835804e-01, -4.1968793e-01,\n",
              "       -5.3380078e-01,  6.8536109e-01, -6.6068238e-01, -1.2197086e+00,\n",
              "        5.2346401e-02, -3.4166431e-01,  5.3325605e-01, -1.5322969e+00,\n",
              "       -8.6577332e-01,  5.4746044e-01, -9.8002130e-01,  3.8091934e-01,\n",
              "       -1.7226104e+00,  5.2752417e-01,  2.4398352e-01,  1.2589576e+00,\n",
              "       -1.1793500e+00,  8.9932877e-01,  6.9139105e-01,  1.6824402e-01,\n",
              "        4.3060616e-01,  4.7804981e-02, -2.0272026e+00,  1.9709966e-01,\n",
              "       -3.5437949e-02,  3.9999253e-01,  1.6406952e+00, -3.0463612e-02,\n",
              "        9.9766381e-02, -9.3463087e-01,  3.5113579e-01,  2.8111136e-02,\n",
              "       -8.4068952e-03, -5.2148197e-03,  1.4533596e+00, -5.2953160e-01,\n",
              "       -3.7924461e-02,  1.0999821e+00, -6.9128668e-01,  8.7721443e-01,\n",
              "       -1.1693382e+00,  1.1545227e+00, -1.3791643e+00,  6.4507526e-01,\n",
              "       -1.4486978e+00, -4.7516105e-01,  2.2228518e-01, -2.9837361e-01,\n",
              "       -6.4219725e-01, -6.0167694e-01,  2.0946006e-01,  1.2566934e+00,\n",
              "       -1.5326165e+00, -7.2751319e-01, -1.0262560e+00,  2.2663614e-01,\n",
              "        5.5609125e-01,  1.0809764e+00, -2.5318682e+00,  1.5451216e+00,\n",
              "        1.7068158e-01,  8.9103736e-02,  2.3417006e-01,  1.1410835e+00],\n",
              "      dtype=float32)"
            ]
          },
          "execution_count": 4,
          "metadata": {},
          "output_type": "execute_result"
        },
        {
          "data": {
            "image/png": "[encoded data removed]",
            "text/plain": [
              "<Figure size 640x480 with 1 Axes>"
            ]
          },
          "metadata": {},
          "output_type": "display_data"
        }
      ],
      "source": [
        "zeros = torch.zeros(2, 3)\n",
        "print(zeros)\n",
        "\n",
        "ones = torch.ones(2, 3)\n",
        "print(ones)\n",
        "\n",
        "torch.manual_seed(1729)\n",
        "random = torch.rand(2, 3)\n",
        "print(random)\n",
        "\n",
        "randn = torch.randn(1000)\n",
        "print(randn.var())\n",
        "import matplotlib.pyplot as plt\n",
        "fig, ax = plt.subplots(1, 1)\n",
        "ax.plot(randn.numpy())\n",
        "randn.numpy()"
      ]
    },
    {
      "cell_type": "markdown",
      "metadata": {},
      "source": [
        "The factory methods all do just what you’d expect - we have a tensor\n",
        "full of zeros, another full of ones, and another with random values\n",
        "between 0 and 1.\n",
        "\n",
        "### Random Tensors and Seeding\n",
        "\n",
        "Speaking of the random tensor, did you notice the call to\n",
        "``torch.manual_seed()`` immediately preceding it? Initializing tensors,\n",
        "such as a model’s learning weights, with random values is common but\n",
        "there are times - especially in research settings - where you’ll want\n",
        "some assurance of the reproducibility of your results. Manually setting\n",
        "your random number generator’s seed is the way to do this. Let’s look\n",
        "more closely:\n",
        "\n",
        "\n"
      ]
    },
    {
      "cell_type": "code",
      "execution_count": 5,
      "metadata": {
        "collapsed": false
      },
      "outputs": [
        {
          "name": "stdout",
          "output_type": "stream",
          "text": [
            "tensor([[0.3126, 0.3791, 0.3087],\n",
            "        [0.0736, 0.4216, 0.0691]])\n",
            "tensor([[0.2332, 0.4047, 0.2162],\n",
            "        [0.9927, 0.4128, 0.5938]])\n",
            "tensor([[0.3126, 0.3791, 0.3087],\n",
            "        [0.0736, 0.4216, 0.0691]])\n",
            "tensor([[0.2332, 0.4047, 0.2162],\n",
            "        [0.9927, 0.4128, 0.5938]])\n"
          ]
        }
      ],
      "source": [
        "torch.manual_seed(1729)\n",
        "random1 = torch.rand(2, 3)\n",
        "print(random1)\n",
        "\n",
        "random2 = torch.rand(2, 3)\n",
        "print(random2)\n",
        "\n",
        "torch.manual_seed(1729)\n",
        "random3 = torch.rand(2, 3)\n",
        "print(random3)\n",
        "\n",
        "random4 = torch.rand(2, 3)\n",
        "print(random4)"
      ]
    },
    {
      "cell_type": "markdown",
      "metadata": {},
      "source": [
        "What you should see above is that ``random1`` and ``random3`` carry\n",
        "identical values, as do ``random2`` and ``random4``. Manually setting\n",
        "the RNG’s seed resets it, so that identical computations depending on\n",
        "random number should, in most settings, provide identical results.\n",
        "\n",
        "For more information, see the [PyTorch documentation on\n",
        "reproducibility](https://pytorch.org/docs/stable/notes/randomness.html)_.\n",
        "\n",
        "### Tensor Shapes\n",
        "\n",
        "Often, when you’re performing operations on two or more tensors, they\n",
        "will need to be of the same *shape* - that is, having the same number of\n",
        "dimensions and the same number of cells in each dimension. For that, we\n",
        "have the ``torch.*_like()`` methods:\n",
        "\n",
        "\n"
      ]
    },
    {
      "cell_type": "code",
      "execution_count": 6,
      "metadata": {
        "collapsed": false
      },
      "outputs": [
        {
          "name": "stdout",
          "output_type": "stream",
          "text": [
            "torch.Size([2, 2, 3])\n",
            "tensor([[[ 7.4304e-09,  3.0799e-41,  0.0000e+00],\n",
            "         [ 0.0000e+00, -0.0000e+00,  1.5912e+00]],\n",
            "\n",
            "        [[ 3.6893e+19,  1.8732e+00, -2.0000e+00],\n",
            "         [ 1.7064e+00,  1.0842e-19,  1.7735e+00]]])\n",
            "torch.Size([2, 2, 3])\n",
            "tensor([[[7.4270e-09, 3.0799e-41, 0.0000e+00],\n",
            "         [0.0000e+00,        nan, 1.5912e+00]],\n",
            "\n",
            "        [[1.7753e+28, 4.4339e+27, 1.7975e+19],\n",
            "         [6.9481e+22, 5.5757e-02, 1.8728e+31]]])\n",
            "torch.Size([2, 2, 3])\n",
            "tensor([[[0., 0., 0.],\n",
            "         [0., 0., 0.]],\n",
            "\n",
            "        [[0., 0., 0.],\n",
            "         [0., 0., 0.]]])\n",
            "torch.Size([2, 2, 3])\n",
            "tensor([[[1., 1., 1.],\n",
            "         [1., 1., 1.]],\n",
            "\n",
            "        [[1., 1., 1.],\n",
            "         [1., 1., 1.]]])\n",
            "torch.Size([2, 2, 3])\n",
            "tensor([[[0.6128, 0.1519, 0.0453],\n",
            "         [0.5035, 0.9978, 0.3884]],\n",
            "\n",
            "        [[0.6929, 0.1703, 0.1384],\n",
            "         [0.4759, 0.7481, 0.0361]]])\n"
          ]
        }
      ],
      "source": [
        "x = torch.empty(2, 2, 3)\n",
        "print(x.shape)\n",
        "print(x)\n",
        "\n",
        "empty_like_x = torch.empty_like(x)\n",
        "print(empty_like_x.shape)\n",
        "print(empty_like_x)\n",
        "\n",
        "zeros_like_x = torch.zeros_like(x)\n",
        "print(zeros_like_x.shape)\n",
        "print(zeros_like_x)\n",
        "\n",
        "ones_like_x = torch.ones_like(x)\n",
        "print(ones_like_x.shape)\n",
        "print(ones_like_x)\n",
        "\n",
        "rand_like_x = torch.rand_like(x)\n",
        "print(rand_like_x.shape)\n",
        "print(rand_like_x)"
      ]
    },
    {
      "cell_type": "markdown",
      "metadata": {},
      "source": [
        "The first new thing in the code cell above is the use of the ``.shape``\n",
        "property on a tensor. This property contains a list of the extent of\n",
        "each dimension of a tensor - in our case, ``x`` is a three-dimensional\n",
        "tensor with shape 2 x 2 x 3.\n",
        "\n",
        "Below that, we call the ``.empty_like()``, ``.zeros_like()``,\n",
        "``.ones_like()``, and ``.rand_like()`` methods. Using the ``.shape``\n",
        "property, we can verify that each of these methods returns a tensor of\n",
        "identical dimensionality and extent.\n",
        "\n",
        "The last way to create a tensor that will cover is to specify its data\n",
        "directly from a PyTorch collection:\n",
        "\n",
        "\n"
      ]
    },
    {
      "cell_type": "code",
      "execution_count": 7,
      "metadata": {
        "collapsed": false
      },
      "outputs": [
        {
          "name": "stdout",
          "output_type": "stream",
          "text": [
            "tensor([[3.1416, 2.7183],\n",
            "        [1.6180, 0.0073]])\n",
            "tensor([ 2,  3,  5,  7, 11, 13, 17, 19])\n",
            "tensor([[2, 4, 6],\n",
            "        [3, 6, 9]])\n"
          ]
        }
      ],
      "source": [
        "some_constants = torch.tensor([[3.1415926, 2.71828], [1.61803, 0.0072897]])\n",
        "print(some_constants)\n",
        "\n",
        "some_integers = torch.tensor((2, 3, 5, 7, 11, 13, 17, 19))\n",
        "print(some_integers)\n",
        "\n",
        "more_integers = torch.tensor(((2, 4, 6), [3, 6, 9]))\n",
        "print(more_integers)"
      ]
    },
    {
      "cell_type": "markdown",
      "metadata": {},
      "source": [
        "Using ``torch.tensor()`` is the most straightforward way to create a\n",
        "tensor if you already have data in a Python tuple or list. As shown\n",
        "above, nesting the collections will result in a multi-dimensional\n",
        "tensor.\n",
        "\n",
        "<div class=\"alert alert-info\"><h4>Note</h4><p>``torch.tensor()`` creates a copy of the data.</p></div>\n",
        "\n",
        "### Tensor Data Types\n",
        "\n",
        "Setting the datatype of a tensor is possible a couple of ways:\n",
        "\n",
        "\n"
      ]
    },
    {
      "cell_type": "code",
      "execution_count": 8,
      "metadata": {
        "collapsed": false
      },
      "outputs": [
        {
          "name": "stdout",
          "output_type": "stream",
          "text": [
            "tensor([[1, 1, 1],\n",
            "        [1, 1, 1]], dtype=torch.int16)\n",
            "tensor([[ 0.9956,  1.4148,  5.8364],\n",
            "        [11.2406, 11.2083, 11.6692]], dtype=torch.float64)\n",
            "tensor([[ 0,  1,  5],\n",
            "        [11, 11, 11]], dtype=torch.int32)\n"
          ]
        }
      ],
      "source": [
        "a = torch.ones((2, 3), dtype=torch.int16)\n",
        "print(a)\n",
        "\n",
        "b = torch.rand((2, 3), dtype=torch.float64) * 20.\n",
        "print(b)\n",
        "\n",
        "c = b.to(torch.int32)\n",
        "print(c)\n",
        "\n",
        "# torch.complex64"
      ]
    },
    {
      "cell_type": "markdown",
      "metadata": {},
      "source": [
        "The simplest way to set the underlying data type of a tensor is with an\n",
        "optional argument at creation time. In the first line of the cell above,\n",
        "we set ``dtype=torch.int16`` for the tensor ``a``. When we print ``a``,\n",
        "we can see that it’s full of ``1`` rather than ``1.`` - Python’s subtle\n",
        "cue that this is an integer type rather than floating point.\n",
        "\n",
        "Another thing to notice about printing ``a`` is that, unlike when we\n",
        "left ``dtype`` as the default (32-bit floating point), printing the\n",
        "tensor also specifies its ``dtype``.\n",
        "\n",
        "You may have also spotted that we went from specifying the tensor’s\n",
        "shape as a series of integer arguments, to grouping those arguments in a\n",
        "tuple. This is not strictly necessary - PyTorch will take a series of\n",
        "initial, unlabeled integer arguments as a tensor shape - but when adding\n",
        "the optional arguments, it can make your intent more readable.\n",
        "\n",
        "The other way to set the datatype is with the ``.to()`` method. In the\n",
        "cell above, we create a random floating point tensor ``b`` in the usual\n",
        "way. Following that, we create ``c`` by converting ``b`` to a 32-bit\n",
        "integer with the ``.to()`` method. Note that ``c`` contains all the same\n",
        "values as ``b``, but truncated to integers.\n",
        "\n",
        "Available data types include:\n",
        "\n",
        "-  ``torch.bool``\n",
        "-  ``torch.int8``\n",
        "-  ``torch.uint8``\n",
        "-  ``torch.int16``\n",
        "-  ``torch.int32``\n",
        "-  ``torch.int64``\n",
        "-  ``torch.half``\n",
        "-  ``torch.float``\n",
        "-  ``torch.double``\n",
        "-  ``torch.bfloat``\n",
        "\n",
        "## Math & Logic with PyTorch Tensors\n",
        "\n",
        "Now that you know some of the ways to create a tensor… what can you do\n",
        "with them?\n",
        "\n",
        "Let’s look at basic arithmetic first, and how tensors interact with\n",
        "simple scalars:\n",
        "\n",
        "\n"
      ]
    },
    {
      "cell_type": "code",
      "execution_count": 9,
      "metadata": {
        "collapsed": false
      },
      "outputs": [
        {
          "name": "stdout",
          "output_type": "stream",
          "text": [
            "tensor([[1., 1.],\n",
            "        [1., 1.]])\n",
            "tensor([[2., 2.],\n",
            "        [2., 2.]])\n",
            "tensor([[3., 3.],\n",
            "        [3., 3.]])\n",
            "tensor([[4., 4.],\n",
            "        [4., 4.]])\n",
            "tensor([[1.4142, 1.4142],\n",
            "        [1.4142, 1.4142]])\n"
          ]
        }
      ],
      "source": [
        "ones = torch.zeros(2, 2) + 1\n",
        "twos = torch.ones(2, 2) * 2\n",
        "threes = (torch.ones(2, 2) * 7 - 1) / 2\n",
        "fours = twos ** 2\n",
        "# torch.square()\n",
        "sqrt2s = twos ** 0.5\n",
        "\n",
        "print(ones)\n",
        "print(twos)\n",
        "print(threes)\n",
        "print(fours)\n",
        "print(sqrt2s)"
      ]
    },
    {
      "cell_type": "markdown",
      "metadata": {},
      "source": [
        "As you can see above, arithmetic operations between tensors and scalars,\n",
        "such as addition, subtraction, multiplication, division, and\n",
        "exponentiation are distributed over every element of the tensor. Because\n",
        "the output of such an operation will be a tensor, you can chain them\n",
        "together with the usual operator precedence rules, as in the line where\n",
        "we create ``threes``.\n",
        "\n",
        "Similar operations between two tensors also behave like you’d\n",
        "intuitively expect:\n",
        "\n",
        "\n"
      ]
    },
    {
      "cell_type": "code",
      "execution_count": 10,
      "metadata": {
        "collapsed": false
      },
      "outputs": [
        {
          "name": "stdout",
          "output_type": "stream",
          "text": [
            "tensor([[ 2.,  4.],\n",
            "        [ 8., 16.]])\n",
            "tensor([[5., 5.],\n",
            "        [5., 5.]])\n",
            "tensor([[12., 12.],\n",
            "        [12., 12.]])\n"
          ]
        }
      ],
      "source": [
        "powers2 = twos ** torch.tensor([[1, 2], [3, 4]])\n",
        "print(powers2)\n",
        "\n",
        "fives = ones + fours\n",
        "print(fives)\n",
        "\n",
        "dozens = threes * fours\n",
        "print(dozens)\n"
      ]
    },
    {
      "cell_type": "markdown",
      "metadata": {},
      "source": [
        "It’s important to note here that all of the tensors in the previous code\n",
        "cell were of identical shape. What happens when we try to perform a\n",
        "binary operation on tensors if dissimilar shape?\n",
        "\n",
        "<div class=\"alert alert-info\"><h4>Note</h4><p>The following cell throws a run-time error. This is intentional.</p></div>\n",
        "\n",
        "::\n",
        "\n",
        "   a = torch.rand(2, 3)\n",
        "   b = torch.rand(3, 2)\n",
        "\n",
        "   print(a * b)\n",
        "\n",
        "\n"
      ]
    },
    {
      "cell_type": "markdown",
      "metadata": {},
      "source": [
        "In the general case, you cannot operate on tensors of different shape\n",
        "this way, even in a case like the cell above, where the tensors have an\n",
        "identical number of elements.\n",
        "\n",
        "### In Brief: Tensor Broadcasting\n",
        "\n",
        "<div class=\"alert alert-info\"><h4>Note</h4><p>If you are familiar with broadcasting semantics in NumPy\n",
        "     ndarrays, you’ll find the same rules apply here.</p></div>\n",
        "\n",
        "The exception to the same-shapes rule is *tensor broadcasting.* Here’s\n",
        "an example:\n",
        "\n",
        "\n"
      ]
    },
    {
      "cell_type": "code",
      "execution_count": 11,
      "metadata": {
        "collapsed": false
      },
      "outputs": [
        {
          "name": "stdout",
          "output_type": "stream",
          "text": [
            "tensor([[0.6146, 0.5999, 0.5013, 0.9397],\n",
            "        [0.8656, 0.5207, 0.6865, 0.3614]])\n",
            "tensor([[1.2291, 1.1998, 1.0026, 1.8793],\n",
            "        [1.7312, 1.0413, 1.3730, 0.7228]])\n"
          ]
        }
      ],
      "source": [
        "rand = torch.rand(2, 4)\n",
        "doubled = rand * (torch.ones(1, 4) * 2)\n",
        "\n",
        "print(rand)\n",
        "print(doubled)"
      ]
    },
    {
      "cell_type": "markdown",
      "metadata": {},
      "source": [
        "What’s the trick here? How is it we got to multiply a 2x4 tensor by a\n",
        "1x4 tensor?\n",
        "\n",
        "Broadcasting is a way to perform an operation between tensors that have\n",
        "similarities in their shapes. In the example above, the one-row,\n",
        "four-column tensor is multiplied by *both rows* of the two-row,\n",
        "four-column tensor.\n",
        "\n",
        "This is an important operation in Deep Learning. The common example is\n",
        "multiplying a tensor of learning weights by a *batch* of input tensors,\n",
        "applying the operation to each instance in the batch separately, and\n",
        "returning a tensor of identical shape - just like our (2, 4) \\* (1, 4)\n",
        "example above returned a tensor of shape (2, 4).\n",
        "\n",
        "The rules for broadcasting are:\n",
        "\n",
        "-  Each tensor must have at least one dimension - no empty tensors.\n",
        "\n",
        "-  Comparing the dimension sizes of the two tensors, *going from last to\n",
        "   first:*\n",
        "\n",
        "   -  Each dimension must be equal, *or*\n",
        "\n",
        "   -  One of the dimensions must be of size 1, *or*\n",
        "\n",
        "   -  The dimension does not exist in one of the tensors\n",
        "\n",
        "Tensors of identical shape, of course, are trivially “broadcastable”, as\n",
        "you saw earlier.\n",
        "\n",
        "Here are some examples of situations that honor the above rules and\n",
        "allow broadcasting:\n",
        "\n",
        "\n"
      ]
    },
    {
      "cell_type": "code",
      "execution_count": 12,
      "metadata": {
        "collapsed": false
      },
      "outputs": [
        {
          "name": "stdout",
          "output_type": "stream",
          "text": [
            "tensor([[[0.6493, 0.2633],\n",
            "         [0.4762, 0.0548],\n",
            "         [0.2024, 0.5731]],\n",
            "\n",
            "        [[0.6493, 0.2633],\n",
            "         [0.4762, 0.0548],\n",
            "         [0.2024, 0.5731]],\n",
            "\n",
            "        [[0.6493, 0.2633],\n",
            "         [0.4762, 0.0548],\n",
            "         [0.2024, 0.5731]],\n",
            "\n",
            "        [[0.6493, 0.2633],\n",
            "         [0.4762, 0.0548],\n",
            "         [0.2024, 0.5731]]])\n",
            "tensor([[[0.7191, 0.7191],\n",
            "         [0.4067, 0.4067],\n",
            "         [0.7301, 0.7301]],\n",
            "\n",
            "        [[0.7191, 0.7191],\n",
            "         [0.4067, 0.4067],\n",
            "         [0.7301, 0.7301]],\n",
            "\n",
            "        [[0.7191, 0.7191],\n",
            "         [0.4067, 0.4067],\n",
            "         [0.7301, 0.7301]],\n",
            "\n",
            "        [[0.7191, 0.7191],\n",
            "         [0.4067, 0.4067],\n",
            "         [0.7301, 0.7301]]])\n",
            "tensor([[[0.6276, 0.7357],\n",
            "         [0.6276, 0.7357],\n",
            "         [0.6276, 0.7357]],\n",
            "\n",
            "        [[0.6276, 0.7357],\n",
            "         [0.6276, 0.7357],\n",
            "         [0.6276, 0.7357]],\n",
            "\n",
            "        [[0.6276, 0.7357],\n",
            "         [0.6276, 0.7357],\n",
            "         [0.6276, 0.7357]],\n",
            "\n",
            "        [[0.6276, 0.7357],\n",
            "         [0.6276, 0.7357],\n",
            "         [0.6276, 0.7357]]])\n"
          ]
        }
      ],
      "source": [
        "a =     torch.ones(4, 3, 2)\n",
        "\n",
        "b = a * torch.rand(   3, 2) # 3rd & 2nd dims identical to a, dim 1 absent\n",
        "print(b)\n",
        "\n",
        "c = a * torch.rand(   3, 1) # 3rd dim = 1, 2nd dim identical to a\n",
        "print(c)\n",
        "\n",
        "d = a * torch.rand(   1, 2) # 3rd dim identical to a, 2nd dim = 1\n",
        "print(d)"
      ]
    },
    {
      "cell_type": "markdown",
      "metadata": {},
      "source": [
        "Look closely at the values of each tensor above: \n",
        "\n",
        "-  The multiplication operation that created ``b`` was \n",
        "   broadcast over every “layer” of ``a``.\n",
        "-  For ``c``, the operation was broadcast over ever layer and row of\n",
        "   ``a`` - every 3-element column is identical. \n",
        "-  For ``d``, we switched it around - now every *row* is identical,\n",
        "   across layers and columns.\n",
        "\n",
        "For more information on broadcasting, see the [PyTorch\n",
        "documentation](https://pytorch.org/docs/stable/notes/broadcasting.html)_\n",
        "on the topic.\n",
        "\n",
        "Here are some examples of attempts at broadcasting that will fail:\n",
        "\n",
        "<div class=\"alert alert-info\"><h4>Note</h4><p>The following cell throws a run-time error. This is intentional.</p></div>\n",
        "\n",
        "::\n",
        "\n",
        "   a =     torch.ones(4, 3, 2)\n",
        "\n",
        "   b = a * torch.rand(4, 3)    # dimensions must match last-to-first\n",
        "\n",
        "   c = a * torch.rand(   2, 3) # both 3rd & 2nd dims different\n",
        "\n",
        "   d = a * torch.rand((0, ))   # can't broadcast with an empty tensor\n",
        "\n",
        "\n"
      ]
    },
    {
      "cell_type": "markdown",
      "metadata": {},
      "source": [
        "### More Math with Tensors\n",
        "\n",
        "PyTorch tensors have over three hundred operations that can be performed\n",
        "on them.\n",
        "\n",
        "Here is a small sample from some of the major categories of operations:\n",
        "\n",
        "\n"
      ]
    },
    {
      "cell_type": "code",
      "execution_count": 13,
      "metadata": {
        "collapsed": false
      },
      "outputs": [
        {
          "name": "stdout",
          "output_type": "stream",
          "text": [
            "Common functions:\n",
            "tensor([[-0.9238, -0.5724,  0.0791, -0.2629],\n",
            "        [-0.1986,  0.4439,  0.6434, -0.4776]])\n",
            "tensor([[0.9238, 0.5724, 0.0791, 0.2629],\n",
            "        [0.1986, 0.4439, 0.6434, 0.4776]])\n",
            "tensor([[-0., -0., 1., -0.],\n",
            "        [-0., 1., 1., -0.]])\n",
            "tensor([[-1., -1.,  0., -1.],\n",
            "        [-1.,  0.,  0., -1.]])\n",
            "tensor([[-0.5000, -0.5000,  0.0791, -0.2629],\n",
            "        [-0.1986,  0.4439,  0.5000, -0.4776]])\n"
          ]
        }
      ],
      "source": [
        "# common functions\n",
        "a = torch.rand(2, 4) * 2 - 1\n",
        "print('Common functions:')\n",
        "print(a)\n",
        "print(torch.abs(a))\n",
        "print(torch.ceil(a))\n",
        "print(torch.floor(a))\n",
        "print(torch.clamp(a, -0.5, 0.5))\n"
      ]
    },
    {
      "cell_type": "code",
      "execution_count": 14,
      "metadata": {},
      "outputs": [
        {
          "name": "stdout",
          "output_type": "stream",
          "text": [
            "\n",
            "Sine and arcsine:\n",
            "tensor([0.0000, 0.7854, 1.5708, 2.3562])\n",
            "tensor([0.0000, 0.7071, 1.0000, 0.7071])\n",
            "tensor([0.0000, 0.7854, 1.5708, 0.7854])\n"
          ]
        }
      ],
      "source": [
        "\n",
        "# trigonometric functions and their inverses\n",
        "angles = torch.tensor([0, math.pi / 4, math.pi / 2, 3 * math.pi / 4])\n",
        "sines = torch.sin(angles)\n",
        "inverses = torch.asin(sines)\n",
        "print('\\nSine and arcsine:')\n",
        "print(angles)\n",
        "print(sines)\n",
        "print(inverses)\n"
      ]
    },
    {
      "cell_type": "code",
      "execution_count": 15,
      "metadata": {},
      "outputs": [
        {
          "name": "stdout",
          "output_type": "stream",
          "text": [
            "\n",
            "Bitwise XOR:\n",
            "tensor([3, 2, 1])\n"
          ]
        }
      ],
      "source": [
        "\n",
        "print('\\nBitwise XOR:')\n",
        "b = torch.tensor([1, 5, 11])\n",
        "c = torch.tensor([2, 7, 10])\n",
        "print(torch.bitwise_xor(b, c))\n"
      ]
    },
    {
      "cell_type": "code",
      "execution_count": 16,
      "metadata": {},
      "outputs": [
        {
          "name": "stdout",
          "output_type": "stream",
          "text": [
            "\n",
            "Broadcasted, element-wise equality comparison:\n",
            "tensor([[ True, False],\n",
            "        [False, False]])\n"
          ]
        }
      ],
      "source": [
        "\n",
        "# comparisons:\n",
        "print('\\nBroadcasted, element-wise equality comparison:')\n",
        "d = torch.tensor([[1., 2.], [3., 4.]])\n",
        "e = torch.ones(1, 2)  # many comparison ops support broadcasting!\n",
        "print(torch.eq(d, e)) # returns a tensor of type bool\n"
      ]
    },
    {
      "cell_type": "code",
      "execution_count": 17,
      "metadata": {},
      "outputs": [
        {
          "name": "stdout",
          "output_type": "stream",
          "text": [
            "\n",
            "Reduction ops:\n",
            "tensor(4.)\n",
            "4.0\n",
            "tensor(2.5000)\n",
            "tensor(1.2910)\n",
            "tensor(24.)\n",
            "tensor([1, 2])\n"
          ]
        }
      ],
      "source": [
        "\n",
        "# reductions:\n",
        "print('\\nReduction ops:')\n",
        "print(torch.max(d))        # returns a single-element tensor\n",
        "print(torch.max(d).item()) # extracts the value from the returned tensor\n",
        "print(torch.mean(d))       # average\n",
        "print(torch.std(d))        # standard deviation\n",
        "print(torch.prod(d))       # product of all numbers\n",
        "print(torch.unique(torch.tensor([1, 2, 1, 2, 1, 2]))) # filter unique elements\n"
      ]
    },
    {
      "cell_type": "code",
      "execution_count": 18,
      "metadata": {},
      "outputs": [
        {
          "name": "stdout",
          "output_type": "stream",
          "text": [
            "\n",
            "Vectors & Matrices:\n",
            "tensor([ 0.,  0., -1.])\n",
            "tensor([[0.7375, 0.8328],\n",
            "        [0.8444, 0.2941]])\n",
            "tensor([[2.2125, 2.4985],\n",
            "        [2.5332, 0.8822]])\n",
            "torch.return_types.svd(\n",
            "U=tensor([[-0.7889, -0.6145],\n",
            "        [-0.6145,  0.7889]]),\n",
            "S=tensor([4.1498, 1.0548]),\n",
            "V=tensor([[-0.7957,  0.6056],\n",
            "        [-0.6056, -0.7957]]))\n"
          ]
        }
      ],
      "source": [
        "\n",
        "# vector and linear algebra operations\n",
        "v1 = torch.tensor([1., 0., 0.])         # x unit vector\n",
        "v2 = torch.tensor([0., 1., 0.])         # y unit vector\n",
        "m1 = torch.rand(2, 2)                   # random matrix\n",
        "m2 = torch.tensor([[3., 0.], [0., 3.]]) # three times identity matrix\n",
        "\n",
        "print('\\nVectors & Matrices:')\n",
        "print(torch.cross(v2, v1)) # negative of z unit vector (v1 x v2 == -v2 x v1)\n",
        "print(m1)\n",
        "m3 = torch.matmul(m1, m2)\n",
        "print(m3)                  # 3 times m1\n",
        "print(torch.svd(m3))       # singular value decomposition"
      ]
    },
    {
      "cell_type": "markdown",
      "metadata": {},
      "source": [
        "This is a small sample of operations. For more details and the full inventory of\n",
        "math functions, have a look at the\n",
        "[documentation](https://pytorch.org/docs/stable/torch.html#math-operations)_.\n",
        "\n",
        "### Altering Tensors in Place\n",
        "\n",
        "Most binary operations on tensors will return a third, new tensor. When\n",
        "we say ``c = a * b`` (where ``a`` and ``b`` are tensors), the new tensor\n",
        "``c`` will occupy a region of memory distinct from the other tensors.\n",
        "\n",
        "There are times, though, that you may wish to alter a tensor in place -\n",
        "for example, if you’re doing an element-wise computation where you can\n",
        "discard intermediate values. For this, most of the math functions have a\n",
        "version with an appended underscore (``_``) that will alter a tensor in\n",
        "place.\n",
        "\n",
        "For example:\n",
        "\n",
        "\n"
      ]
    },
    {
      "cell_type": "code",
      "execution_count": 19,
      "metadata": {
        "collapsed": false
      },
      "outputs": [
        {
          "name": "stdout",
          "output_type": "stream",
          "text": [
            "a:\n",
            "tensor([0.0000, 0.7854, 1.5708, 2.3562])\n",
            "tensor([0.0000, 0.7071, 1.0000, 0.7071])\n",
            "tensor([0.0000, 0.7854, 1.5708, 2.3562])\n",
            "\n",
            "b:\n",
            "tensor([0.0000, 0.7854, 1.5708, 2.3562])\n",
            "tensor([0.0000, 0.7071, 1.0000, 0.7071])\n",
            "tensor([0.0000, 0.7071, 1.0000, 0.7071])\n"
          ]
        }
      ],
      "source": [
        "a = torch.tensor([0, math.pi / 4, math.pi / 2, 3 * math.pi / 4])\n",
        "print('a:')\n",
        "print(a)\n",
        "print(torch.sin(a))   # this operation creates a new tensor in memory\n",
        "print(a)              # a has not changed\n",
        "\n",
        "b = torch.tensor([0, math.pi / 4, math.pi / 2, 3 * math.pi / 4])\n",
        "print('\\nb:')\n",
        "print(b)\n",
        "print(torch.sin_(b))  # note the underscore\n",
        "print(b)              # b has changed"
      ]
    },
    {
      "cell_type": "markdown",
      "metadata": {},
      "source": [
        "For arithmetic operations, there are functions that behave similarly:\n",
        "\n",
        "\n"
      ]
    },
    {
      "cell_type": "code",
      "execution_count": 20,
      "metadata": {
        "collapsed": false
      },
      "outputs": [
        {
          "name": "stdout",
          "output_type": "stream",
          "text": [
            "Before:\n",
            "tensor([[1., 1.],\n",
            "        [1., 1.]])\n",
            "tensor([[0.3788, 0.4567],\n",
            "        [0.0649, 0.6677]])\n",
            "\n",
            "After adding:\n",
            "tensor([[1.3788, 1.4567],\n",
            "        [1.0649, 1.6677]])\n",
            "tensor([[1.3788, 1.4567],\n",
            "        [1.0649, 1.6677]])\n",
            "tensor([[0.3788, 0.4567],\n",
            "        [0.0649, 0.6677]])\n",
            "\n",
            "After multiplying\n",
            "tensor([[0.1435, 0.2086],\n",
            "        [0.0042, 0.4459]])\n",
            "tensor([[0.1435, 0.2086],\n",
            "        [0.0042, 0.4459]])\n"
          ]
        }
      ],
      "source": [
        "a = torch.ones(2, 2)\n",
        "b = torch.rand(2, 2)\n",
        "\n",
        "print('Before:')\n",
        "print(a)\n",
        "print(b)\n",
        "print('\\nAfter adding:')\n",
        "print(a.add_(b))\n",
        "print(a)\n",
        "print(b)\n",
        "print('\\nAfter multiplying')\n",
        "print(b.mul_(b))\n",
        "print(b)"
      ]
    },
    {
      "cell_type": "markdown",
      "metadata": {},
      "source": [
        "Note that these in-place arithmetic functions are methods on the\n",
        "``torch.Tensor`` object, not attached to the ``torch`` module like many\n",
        "other functions (e.g., ``torch.sin()``). As you can see from\n",
        "``a.add_(b)``, *the calling tensor is the one that gets changed in\n",
        "place.*\n",
        "\n",
        "There is another option for placing the result of a computation in an\n",
        "existing, allocated tensor. Many of the methods and functions we’ve seen\n",
        "so far - including creation methods! - have an ``out`` argument that\n",
        "lets you specify a tensor to receive the output. If the ``out`` tensor\n",
        "is the correct shape and ``dtype``, this can happen without a new memory\n",
        "allocation:\n",
        "\n",
        "\n"
      ]
    },
    {
      "cell_type": "code",
      "execution_count": 21,
      "metadata": {
        "collapsed": false
      },
      "outputs": [
        {
          "name": "stdout",
          "output_type": "stream",
          "text": [
            "tensor([[0., 0.],\n",
            "        [0., 0.]])\n",
            "tensor([[0.3653, 0.8699],\n",
            "        [0.2364, 0.3604]])\n",
            "tensor([[0.0776, 0.4004],\n",
            "        [0.9877, 0.0352]])\n"
          ]
        }
      ],
      "source": [
        "a = torch.rand(2, 2)\n",
        "b = torch.rand(2, 2)\n",
        "c = torch.zeros(2, 2)\n",
        "old_id = id(c)\n",
        "\n",
        "print(c)\n",
        "d = torch.matmul(a, b, out=c)\n",
        "print(c)                # contents of c have changed\n",
        "\n",
        "assert c is d           # test c & d are same object, not just containing equal values\n",
        "assert id(c) == old_id  # make sure that our new c is the same object as the old one\n",
        "\n",
        "torch.rand(2, 2, out=c) # works for creation too!\n",
        "print(c)                # c has changed again\n",
        "assert id(c) == old_id  # still the same object!"
      ]
    },
    {
      "cell_type": "markdown",
      "metadata": {},
      "source": [
        "## Copying Tensors\n",
        "\n",
        "As with any object in Python, assigning a tensor to a variable makes the\n",
        "variable a *label* of the tensor, and does not copy it. For example:\n",
        "\n",
        "\n"
      ]
    },
    {
      "cell_type": "code",
      "execution_count": 22,
      "metadata": {
        "collapsed": false
      },
      "outputs": [
        {
          "name": "stdout",
          "output_type": "stream",
          "text": [
            "tensor([[  1., 561.],\n",
            "        [  1.,   1.]])\n"
          ]
        }
      ],
      "source": [
        "a = torch.ones(2, 2)\n",
        "b = a\n",
        "\n",
        "a[0][1] = 561  # we change a...\n",
        "print(b)       # ...and b is also altered\n",
        "\n",
        "assert a is b"
      ]
    },
    {
      "cell_type": "markdown",
      "metadata": {},
      "source": [
        "But what if you want a separate copy of the data to work on? The\n",
        "``clone()`` method is there for you:\n",
        "\n",
        "\n"
      ]
    },
    {
      "cell_type": "code",
      "execution_count": 23,
      "metadata": {
        "collapsed": false
      },
      "outputs": [
        {
          "name": "stdout",
          "output_type": "stream",
          "text": [
            "tensor([[True, True],\n",
            "        [True, True]])\n",
            "tensor([[1., 1.],\n",
            "        [1., 1.]])\n"
          ]
        }
      ],
      "source": [
        "a = torch.ones(2, 2)\n",
        "b = a.clone()\n",
        "\n",
        "assert b is not a      # different objects in memory...\n",
        "print(torch.eq(a, b))  # ...but still with the same contents!\n",
        "\n",
        "a[0][1] = 561          # a changes...\n",
        "print(b)               # ...but b is still all ones"
      ]
    },
    {
      "cell_type": "markdown",
      "metadata": {},
      "source": [
        "**There is an important thing to be aware of when using ``clone()``.**\n",
        "If your source tensor has autograd, enabled then so will the clone.\n",
        "**This will be covered more deeply in the video on autograd,** but if\n",
        "you want the light version of the details, continue on.\n",
        "\n",
        "*In many cases, this will be what you want.* For example, if your model\n",
        "has multiple computation paths in its ``forward()`` method, and *both*\n",
        "the original tensor and its clone contribute to the model’s output, then\n",
        "to enable model learning you want autograd turned on for both tensors.\n",
        "If your source tensor has autograd enabled (which it generally will if\n",
        "it’s a set of learning weights or derived from a computation involving\n",
        "the weights), then you’ll get the result you want.\n",
        "\n",
        "On the other hand, if you’re doing a computation where *neither* the\n",
        "original tensor nor its clone need to track gradients, then as long as\n",
        "the source tensor has autograd turned off, you’re good to go.\n",
        "\n",
        "*There is a third case,* though: Imagine you’re performing a computation\n",
        "in your model’s ``forward()`` function, where gradients are turned on\n",
        "for everything by default, but you want to pull out some values\n",
        "mid-stream to generate some metrics. In this case, you *don’t* want the\n",
        "cloned copy of your source tensor to track gradients - performance is\n",
        "improved with autograd’s history tracking turned off. For this, you can\n",
        "use the ``.detach()`` method on the source tensor:\n",
        "\n",
        "\n"
      ]
    },
    {
      "cell_type": "code",
      "execution_count": 24,
      "metadata": {
        "collapsed": false
      },
      "outputs": [
        {
          "name": "stdout",
          "output_type": "stream",
          "text": [
            "tensor([[0.0905, 0.4485],\n",
            "        [0.8740, 0.2526]], requires_grad=True)\n",
            "tensor([[0.0905, 0.4485],\n",
            "        [0.8740, 0.2526]], grad_fn=<CloneBackward0>)\n",
            "tensor([[0.0905, 0.4485],\n",
            "        [0.8740, 0.2526]])\n",
            "tensor([[0.0905, 0.4485],\n",
            "        [0.8740, 0.2526]], requires_grad=True)\n"
          ]
        }
      ],
      "source": [
        "a = torch.rand(2, 2, requires_grad=True) # turn on autograd\n",
        "print(a)\n",
        "\n",
        "b = a.clone()\n",
        "print(b)\n",
        "\n",
        "c = a.detach().clone()\n",
        "print(c)\n",
        "\n",
        "print(a)"
      ]
    },
    {
      "cell_type": "markdown",
      "metadata": {},
      "source": [
        "What’s happening here?\n",
        "\n",
        "-  We create ``a`` with ``requires_grad=True`` turned on. **We haven’t\n",
        "   covered this optional argument yet, but will during the unit on\n",
        "   autograd.**\n",
        "-  When we print ``a``, it informs us that the property\n",
        "   ``requires_grad=True`` - this means that autograd and computation\n",
        "   history tracking are turned on.\n",
        "-  We clone ``a`` and label it ``b``. When we print ``b``, we can see\n",
        "   that it’s tracking its computation history - it has inherited\n",
        "   ``a``\\ ’s autograd settings, and added to the computation history.\n",
        "-  We clone ``a`` into ``c``, but we call ``detach()`` first.\n",
        "-  Printing ``c``, we see no computation history, and no\n",
        "   ``requires_grad=True``.\n",
        "\n",
        "The ``detach()`` method *detaches the tensor from its computation\n",
        "history.* It says, “do whatever comes next as if autograd was off.” It\n",
        "does this *without* changing ``a`` - you can see that when we print\n",
        "``a`` again at the end, it retains its ``requires_grad=True`` property.\n",
        "\n",
        "## Moving to GPU\n",
        "\n",
        "One of the major advantages of PyTorch is its robust acceleration on\n",
        "CUDA-compatible Nvidia GPUs. (“CUDA” stands for *Compute Unified Device\n",
        "Architecture*, which is Nvidia’s platform for parallel computing.) So\n",
        "far, everything we’ve done has been on CPU. How do we move to the faster\n",
        "hardware?\n",
        "\n",
        "First, we should check whether a GPU is available, with the\n",
        "``is_available()`` method.\n",
        "\n",
        "<div class=\"alert alert-info\"><h4>Note</h4><p>If you do not have a CUDA-compatible GPU and CUDA drivers\n",
        "     installed, the executable cells in this section will not execute any\n",
        "     GPU-related code.</p></div>\n",
        "\n",
        "\n"
      ]
    },
    {
      "cell_type": "code",
      "execution_count": 25,
      "metadata": {
        "collapsed": false
      },
      "outputs": [
        {
          "name": "stdout",
          "output_type": "stream",
          "text": [
            "Sorry, CPU only.\n"
          ]
        }
      ],
      "source": [
        "if torch.cuda.is_available():\n",
        "    print('We have a GPU!')\n",
        "else:\n",
        "    print('Sorry, CPU only.')"
      ]
    },
    {
      "cell_type": "markdown",
      "metadata": {},
      "source": [
        "Once we’ve determined that one or more GPUs is available, we need to put\n",
        "our data someplace where the GPU can see it. Your CPU does computation\n",
        "on data in your computer’s RAM. Your GPU has dedicated memory attached\n",
        "to it. Whenever you want to perform a computation on a device, you must\n",
        "move *all* the data needed for that computation to memory accessible by\n",
        "that device. (Colloquially, “moving the data to memory accessible by the\n",
        "GPU” is shorted to, “moving the data to the GPU”.)\n",
        "\n",
        "There are multiple ways to get your data onto your target device. You\n",
        "may do it at creation time:\n",
        "\n",
        "\n"
      ]
    },
    {
      "cell_type": "code",
      "execution_count": 26,
      "metadata": {
        "collapsed": false
      },
      "outputs": [
        {
          "name": "stdout",
          "output_type": "stream",
          "text": [
            "Sorry, CPU only.\n"
          ]
        }
      ],
      "source": [
        "if torch.cuda.is_available():\n",
        "    gpu_rand = torch.rand(2, 2, device='cuda')\n",
        "    print(gpu_rand)\n",
        "else:\n",
        "    print('Sorry, CPU only.')"
      ]
    },
    {
      "cell_type": "markdown",
      "metadata": {},
      "source": [
        "By default, new tensors are created on the CPU, so we have to specify\n",
        "when we want to create our tensor on the GPU with the optional\n",
        "``device`` argument. You can see when we print the new tensor, PyTorch\n",
        "informs us which device it’s on (if it’s not on CPU).\n",
        "\n",
        "You can query the number of GPUs with ``torch.cuda.device_count()``. If\n",
        "you have more than one GPU, you can specify them by index:\n",
        "``device='cuda:0'``, ``device='cuda:1'``, etc.\n",
        "\n",
        "As a coding practice, specifying our devices everywhere with string\n",
        "constants is pretty fragile. In an ideal world, your code would perform\n",
        "robustly whether you’re on CPU or GPU hardware. You can do this by\n",
        "creating a device handle that can be passed to your tensors instead of a\n",
        "string:\n",
        "\n",
        "\n"
      ]
    },
    {
      "cell_type": "code",
      "execution_count": 27,
      "metadata": {
        "collapsed": false
      },
      "outputs": [
        {
          "name": "stdout",
          "output_type": "stream",
          "text": [
            "Device: cpu\n",
            "tensor([[0.6923, 0.7545],\n",
            "        [0.7746, 0.2330]])\n"
          ]
        }
      ],
      "source": [
        "if torch.cuda.is_available():\n",
        "    my_device = torch.device('cuda')\n",
        "else:\n",
        "    my_device = torch.device('cpu')\n",
        "print('Device: {}'.format(my_device))\n",
        "\n",
        "x = torch.rand(2, 2, device=my_device)\n",
        "print(x)"
      ]
    },
    {
      "cell_type": "markdown",
      "metadata": {},
      "source": [
        "If you have an existing tensor living on one device, you can move it to\n",
        "another with the ``to()`` method. The following line of code creates a\n",
        "tensor on CPU, and moves it to whichever device handle you acquired in\n",
        "the previous cell.\n",
        "\n",
        "\n"
      ]
    },
    {
      "cell_type": "code",
      "execution_count": 28,
      "metadata": {
        "collapsed": false
      },
      "outputs": [],
      "source": [
        "y = torch.rand(2, 2)\n",
        "y = y.to(my_device)"
      ]
    },
    {
      "cell_type": "markdown",
      "metadata": {},
      "source": [
        "It is important to know that in order to do computation involving two or\n",
        "more tensors, *all of the tensors must be on the same device*. The\n",
        "following code will throw a runtime error, regardless of whether you\n",
        "have a GPU device available:\n",
        "\n",
        "::\n",
        "\n",
        "   x = torch.rand(2, 2)\n",
        "   y = torch.rand(2, 2, device='gpu')\n",
        "   z = x + y  # exception will be thrown\n",
        "\n",
        "\n"
      ]
    },
    {
      "cell_type": "markdown",
      "metadata": {},
      "source": [
        "## Manipulating Tensor Shapes\n",
        "\n",
        "Sometimes, you’ll need to change the shape of your tensor. Below, we’ll\n",
        "look at a few common cases, and how to handle them.\n",
        "\n",
        "### Changing the Number of Dimensions\n",
        "\n",
        "One case where you might need to change the number of dimensions is\n",
        "passing a single instance of input to your model. PyTorch models\n",
        "generally expect *batches* of input.\n",
        "\n",
        "For example, imagine having a model that works on 3 x 226 x 226 images -\n",
        "a 226-pixel square with 3 color channels. When you load and transform\n",
        "it, you’ll get a tensor of shape ``(3, 226, 226)``. Your model, though,\n",
        "is expecting input of shape ``(N, 3, 226, 226)``, where ``N`` is the\n",
        "number of images in the batch. So how do you make a batch of one?\n",
        "\n",
        "\n"
      ]
    },
    {
      "cell_type": "code",
      "execution_count": 29,
      "metadata": {
        "collapsed": false
      },
      "outputs": [
        {
          "name": "stdout",
          "output_type": "stream",
          "text": [
            "torch.Size([3, 226, 226])\n",
            "torch.Size([1, 3, 226, 226])\n"
          ]
        }
      ],
      "source": [
        "a = torch.rand(3, 226, 226)\n",
        "b = a.unsqueeze(0)\n",
        "\n",
        "print(a.shape)\n",
        "print(b.shape)"
      ]
    },
    {
      "cell_type": "markdown",
      "metadata": {},
      "source": [
        "The ``unsqueeze()`` method adds a dimension of extent 1.\n",
        "``unsqueeze(0)`` adds it as a new zeroth dimension - now you have a\n",
        "batch of one!\n",
        "\n",
        "So if that’s *un*\\ squeezing? What do we mean by squeezing? We’re taking\n",
        "advantage of the fact that any dimension of extent 1 *does not* change\n",
        "the number of elements in the tensor.\n",
        "\n",
        "\n"
      ]
    },
    {
      "cell_type": "code",
      "execution_count": 30,
      "metadata": {
        "collapsed": false
      },
      "outputs": [
        {
          "name": "stdout",
          "output_type": "stream",
          "text": [
            "tensor([[[[[0.1506]]]]])\n"
          ]
        }
      ],
      "source": [
        "c = torch.rand(1, 1, 1, 1, 1)\n",
        "print(c)"
      ]
    },
    {
      "cell_type": "markdown",
      "metadata": {},
      "source": [
        "Continuing the example above, let’s say the model’s output is a\n",
        "20-element vector for each input. You would then expect the output to\n",
        "have shape ``(N, 20)``, where ``N`` is the number of instances in the\n",
        "input batch. That means that for our single-input batch, we’ll get an\n",
        "output of shape ``(1, 20)``.\n",
        "\n",
        "What if you want to do some *non-batched* computation with that output -\n",
        "something that’s just expecting a 20-element vector?\n",
        "\n",
        "\n"
      ]
    },
    {
      "cell_type": "code",
      "execution_count": 31,
      "metadata": {
        "collapsed": false
      },
      "outputs": [
        {
          "name": "stdout",
          "output_type": "stream",
          "text": [
            "torch.Size([1, 20])\n",
            "tensor([[0.9585, 0.7756, 0.8973, 0.4929, 0.2367, 0.8194, 0.4509, 0.2690, 0.8381,\n",
            "         0.8207, 0.6818, 0.5057, 0.9335, 0.9769, 0.2792, 0.3277, 0.5210, 0.7349,\n",
            "         0.7823, 0.8637]])\n",
            "torch.Size([20])\n",
            "tensor([0.9585, 0.7756, 0.8973, 0.4929, 0.2367, 0.8194, 0.4509, 0.2690, 0.8381,\n",
            "        0.8207, 0.6818, 0.5057, 0.9335, 0.9769, 0.2792, 0.3277, 0.5210, 0.7349,\n",
            "        0.7823, 0.8637])\n",
            "torch.Size([2, 2])\n",
            "torch.Size([2, 2])\n"
          ]
        }
      ],
      "source": [
        "a = torch.rand(1, 20)\n",
        "print(a.shape)\n",
        "print(a)\n",
        "\n",
        "b = a.squeeze(0)\n",
        "print(b.shape)\n",
        "print(b)\n",
        "\n",
        "c = torch.rand(2, 2)\n",
        "print(c.shape)\n",
        "\n",
        "d = c.squeeze(0)\n",
        "print(d.shape)"
      ]
    },
    {
      "cell_type": "markdown",
      "metadata": {},
      "source": [
        "You can see from the shapes that our 2-dimensional tensor is now\n",
        "1-dimensional, and if you look closely at the output of the cell above\n",
        "you’ll see that printing ``a`` shows an “extra” set of square brackets\n",
        "``[]`` due to having an extra dimension.\n",
        "\n",
        "You may only ``squeeze()`` dimensions of extent 1. See above where we\n",
        "try to squeeze a dimension of size 2 in ``c``, and get back the same\n",
        "shape we started with. Calls to ``squeeze()`` and ``unsqueeze()`` can\n",
        "only act on dimensions of extent 1 because to do otherwise would change\n",
        "the number of elements in the tensor.\n",
        "\n",
        "Another place you might use ``unsqueeze()`` is to ease broadcasting.\n",
        "Recall the example above where we had the following code:\n",
        "\n",
        "::\n",
        "\n",
        "   a =     torch.ones(4, 3, 2)\n",
        "\n",
        "   c = a * torch.rand(   3, 1) # 3rd dim = 1, 2nd dim identical to a\n",
        "   print(c)\n",
        "\n",
        "The net effect of that was to broadcast the operation over dimensions 0\n",
        "and 2, causing the random, 3 x 1 tensor to be multiplied element-wise by\n",
        "every 3-element column in ``a``.\n",
        "\n",
        "What if the random vector had just been 3-element vector? We’d lose the\n",
        "ability to do the broadcast, because the final dimensions would not\n",
        "match up according to the broadcasting rules. ``unsqueeze()`` comes to\n",
        "the rescue:\n",
        "\n",
        "\n"
      ]
    },
    {
      "cell_type": "code",
      "execution_count": 32,
      "metadata": {
        "collapsed": false
      },
      "outputs": [
        {
          "name": "stdout",
          "output_type": "stream",
          "text": [
            "torch.Size([3, 1])\n",
            "tensor([[[0.4887, 0.4887],\n",
            "         [0.8625, 0.8625],\n",
            "         [0.6191, 0.6191]],\n",
            "\n",
            "        [[0.4887, 0.4887],\n",
            "         [0.8625, 0.8625],\n",
            "         [0.6191, 0.6191]],\n",
            "\n",
            "        [[0.4887, 0.4887],\n",
            "         [0.8625, 0.8625],\n",
            "         [0.6191, 0.6191]],\n",
            "\n",
            "        [[0.4887, 0.4887],\n",
            "         [0.8625, 0.8625],\n",
            "         [0.6191, 0.6191]]])\n"
          ]
        }
      ],
      "source": [
        "a = torch.ones(4, 3, 2)\n",
        "b = torch.rand(   3)     # trying to multiply a * b will give a runtime error\n",
        "c = b.unsqueeze(1)       # change to a 2-dimensional tensor, adding new dim at the end\n",
        "print(c.shape)\n",
        "print(a * c)             # broadcasting works again!"
      ]
    },
    {
      "cell_type": "markdown",
      "metadata": {},
      "source": [
        "The ``squeeze()`` and ``unsqueeze()`` methods also have in-place\n",
        "versions, ``squeeze_()`` and ``unsqueeze_()``:\n",
        "\n",
        "\n"
      ]
    },
    {
      "cell_type": "code",
      "execution_count": 33,
      "metadata": {
        "collapsed": false
      },
      "outputs": [
        {
          "name": "stdout",
          "output_type": "stream",
          "text": [
            "torch.Size([3, 226, 226])\n",
            "torch.Size([1, 3, 226, 226])\n"
          ]
        }
      ],
      "source": [
        "batch_me = torch.rand(3, 226, 226)\n",
        "print(batch_me.shape)\n",
        "batch_me.unsqueeze_(0)\n",
        "print(batch_me.shape)"
      ]
    },
    {
      "cell_type": "markdown",
      "metadata": {},
      "source": [
        "Sometimes you’ll want to change the shape of a tensor more radically,\n",
        "while still preserving the number of elements and their contents. One\n",
        "case where this happens is at the interface between a convolutional\n",
        "layer of a model and a linear layer of the model - this is common in\n",
        "image classification models. A convolution kernel will yield an output\n",
        "tensor of shape *features x width x height,* but the following linear\n",
        "layer expects a 1-dimensional input. ``reshape()`` will do this for you,\n",
        "provided that the dimensions you request yield the same number of\n",
        "elements as the input tensor has:\n",
        "\n",
        "\n"
      ]
    },
    {
      "cell_type": "code",
      "execution_count": 52,
      "metadata": {
        "collapsed": false
      },
      "outputs": [
        {
          "name": "stdout",
          "output_type": "stream",
          "text": [
            "torch.Size([6, 20, 20])\n",
            "torch.Size([2400])\n",
            "torch.Size([2400])\n"
          ]
        }
      ],
      "source": [
        "output3d = torch.rand(6, 20, 20)\n",
        "print(output3d.shape)\n",
        "\n",
        "input1d = output3d.reshape(6 * 20 * 20)\n",
        "print(input1d.shape)\n",
        "\n",
        "# can also call it as a method on the torch module:\n",
        "print(torch.reshape(output3d, (6 * 20 * 20,)).shape)"
      ]
    },
    {
      "cell_type": "markdown",
      "metadata": {},
      "source": [
        "<div class=\"alert alert-info\"><h4>Note</h4><p>The ``(6 * 20 * 20,)`` argument in the final line of the cell\n",
        "     above is because PyTorch expects a **tuple** when specifying a\n",
        "     tensor shape - but when the shape is the first argument of a method, it\n",
        "     lets us cheat and just use a series of integers. Here, we had to add the\n",
        "     parentheses and comma to convince the method that this is really a\n",
        "     one-element tuple.</p></div>\n",
        "\n",
        "When it can, ``reshape()`` will return a *view* on the tensor to be\n",
        "changed - that is, a separate tensor object looking at the same\n",
        "underlying region of memory. *This is important:* That means any change\n",
        "made to the source tensor will be reflected in the view on that tensor,\n",
        "unless you ``clone()`` it.\n",
        "\n",
        "There *are* conditions, beyond the scope of this introduction, where\n",
        "``reshape()`` has to return a tensor carrying a copy of the data. For\n",
        "more information, see the\n",
        "[docs](https://pytorch.org/docs/stable/torch.html#torch.reshape)_.\n",
        "\n",
        "\n"
      ]
    },
    {
      "cell_type": "markdown",
      "metadata": {},
      "source": [
        "## NumPy Bridge\n",
        "\n",
        "In the section above on broadcasting, it was mentioned that PyTorch’s\n",
        "broadcast semantics are compatible with NumPy’s - but the kinship\n",
        "between PyTorch and NumPy goes even deeper than that.\n",
        "\n",
        "If you have existing ML or scientific code with data stored in NumPy\n",
        "ndarrays, you may wish to express that same data as PyTorch tensors,\n",
        "whether to take advantage of PyTorch’s GPU acceleration, or its\n",
        "efficient abstractions for building ML models. It’s easy to switch\n",
        "between ndarrays and PyTorch tensors:\n",
        "\n",
        "\n"
      ]
    },
    {
      "cell_type": "code",
      "execution_count": 34,
      "metadata": {
        "collapsed": false
      },
      "outputs": [
        {
          "name": "stdout",
          "output_type": "stream",
          "text": [
            "[[1. 1. 1.]\n",
            " [1. 1. 1.]]\n",
            "tensor([[1., 1., 1.],\n",
            "        [1., 1., 1.]], dtype=torch.float64)\n"
          ]
        }
      ],
      "source": [
        "import numpy as np\n",
        "\n",
        "numpy_array = np.ones((2, 3))\n",
        "print(numpy_array)\n",
        "\n",
        "pytorch_tensor = torch.from_numpy(numpy_array)\n",
        "print(pytorch_tensor)"
      ]
    },
    {
      "cell_type": "markdown",
      "metadata": {},
      "source": [
        "PyTorch creates a tensor of the same shape and containing the same data\n",
        "as the NumPy array, going so far as to keep NumPy’s default 64-bit float\n",
        "data type.\n",
        "\n",
        "The conversion can just as easily go the other way:\n",
        "\n",
        "\n"
      ]
    },
    {
      "cell_type": "code",
      "execution_count": 35,
      "metadata": {
        "collapsed": false
      },
      "outputs": [
        {
          "name": "stdout",
          "output_type": "stream",
          "text": [
            "tensor([[0.4239, 0.0164, 0.5220],\n",
            "        [0.5693, 0.6086, 0.5455]])\n",
            "[[0.4239024  0.0163914  0.52199143]\n",
            " [0.56934655 0.60863465 0.54549646]]\n"
          ]
        }
      ],
      "source": [
        "pytorch_rand = torch.rand(2, 3)\n",
        "print(pytorch_rand)\n",
        "\n",
        "numpy_rand = pytorch_rand.numpy()\n",
        "print(numpy_rand)"
      ]
    },
    {
      "cell_type": "markdown",
      "metadata": {},
      "source": [
        "It is important to know that these converted objects are using *the same\n",
        "underlying memory* as their source objects, meaning that changes to one\n",
        "are reflected in the other:\n",
        "\n",
        "\n"
      ]
    },
    {
      "cell_type": "code",
      "execution_count": 36,
      "metadata": {
        "collapsed": false
      },
      "outputs": [
        {
          "name": "stdout",
          "output_type": "stream",
          "text": [
            "tensor([[ 1.,  1.,  1.],\n",
            "        [ 1., 23.,  1.]], dtype=torch.float64)\n",
            "[[4.2390239e-01 1.6391397e-02 5.2199143e-01]\n",
            " [5.6934655e-01 1.7000000e+01 5.4549646e-01]]\n"
          ]
        }
      ],
      "source": [
        "numpy_array[1, 1] = 23\n",
        "print(pytorch_tensor)\n",
        "\n",
        "pytorch_rand[1, 1] = 17\n",
        "print(numpy_rand)"
      ]
    },
    {
      "cell_type": "code",
      "execution_count": null,
      "metadata": {},
      "outputs": [],
      "source": []
    }
  ],
  "metadata": {
    "kernelspec": {
      "display_name": "Python 3",
      "language": "python",
      "name": "python3"
    },
    "language_info": {
      "codemirror_mode": {
        "name": "ipython",
        "version": 3
      },
      "file_extension": ".py",
      "mimetype": "text/x-python",
      "name": "python",
      "nbconvert_exporter": "python",
      "pygments_lexer": "ipython3",
      "version": "3.11.5"
    }
  },
  "nbformat": 4,
  "nbformat_minor": 0
}
